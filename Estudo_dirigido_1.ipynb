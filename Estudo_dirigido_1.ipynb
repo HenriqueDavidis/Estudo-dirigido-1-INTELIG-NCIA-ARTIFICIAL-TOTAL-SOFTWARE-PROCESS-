{
  "nbformat": 4,
  "nbformat_minor": 0,
  "metadata": {
    "colab": {
      "provenance": []
    },
    "kernelspec": {
      "name": "python3",
      "display_name": "Python 3"
    },
    "language_info": {
      "name": "python"
    }
  },
  "cells": [
    {
      "cell_type": "code",
      "execution_count": null,
      "metadata": {
        "colab": {
          "base_uri": "https://localhost:8080/"
        },
        "id": "rgFY0HTety5w",
        "outputId": "cb751e0f-4d52-4fec-d7ca-fcfca018a3b2"
      },
      "outputs": [
        {
          "output_type": "stream",
          "name": "stdout",
          "text": [
            "Digite a temperatura (graus Celsius): 100\n",
            "Digite a pressão (bar): 60\n",
            "Resultado: Com problema\n"
          ]
        },
        {
          "output_type": "stream",
          "name": "stderr",
          "text": [
            "/usr/local/lib/python3.10/dist-packages/sklearn/base.py:439: UserWarning: X does not have valid feature names, but SVC was fitted with feature names\n",
            "  warnings.warn(\n"
          ]
        }
      ],
      "source": [
        "#Estudo dirigido 1\n",
        "#Faça um algoritmo de Machine learning que calcule, para novas entrada de dados, problemas num determinado motor. Para isso, considere as seguintes informações, a seguir:\n",
        "#Atributos:\n",
        "#Temperatura (graus celsius) e pressão (bar)\n",
        "#Classes:\n",
        "#Sem problemas\n",
        "#Com problemas\n",
        "\n",
        "#Dados históricos (registros de ocorrências passadas)\n",
        "\n",
        "#Temperatura | Pressão | Classe\n",
        "#30          | 25      | sem problema\n",
        "#20          | 25      | sem problema\n",
        "#100         | 60      | problema\n",
        "#40          | 25      | sem problema\n",
        "#90          | 50      | problema\n",
        "#85          | 50      | problema\n",
        "#30          | 20      | sem problema\n",
        "#80          | 40      | problema\n",
        "#100         | 45      | problema\n",
        "#30          | 15      | sem problema\n",
        "#85          | 45      | problema\n",
        "#80          | 50      | problema\n",
        "#20          | 15      | sem problema\n",
        "#40          | 15      | sem problema\n",
        "#90          | 45      | problema\n",
        "\n",
        "\n",
        "import pandas as pd\n",
        "from sklearn.svm import SVC\n",
        "\n",
        "# Dados históricos\n",
        "data = {\n",
        "    'Temperatura': [30, 20, 100, 40, 90, 85, 30, 80, 100, 30, 85, 80, 20, 40, 90],\n",
        "    'Pressao': [25, 25, 60, 25, 50, 50, 20, 40, 45, 15, 45, 50, 15, 15, 45],\n",
        "    'Classe': ['sem problema', 'sem problema', 'problema', 'sem problema', 'problema',\n",
        "               'problema', 'sem problema', 'problema', 'problema', 'sem problema',\n",
        "               'problema', 'problema', 'sem problema', 'sem problema', 'problema']\n",
        "}\n",
        "\n",
        "# Criei um DataFrame:\n",
        "df = pd.DataFrame(data)\n",
        "\n",
        "# Converter a classe em números (0 para 'sem problema' e 1 para 'problema'):\n",
        "df['Classe'] = df['Classe'].map({'sem problema': 0, 'problema': 1})\n",
        "\n",
        "# Treinamento de um modelo,com todos os dados históricos:\n",
        "X = df[['Temperatura', 'Pressao']]\n",
        "y = df['Classe']\n",
        "model = SVC()\n",
        "model.fit(X, y)\n",
        "\n",
        "# Solicitar a entrada do usuário:\n",
        "temperatura = float(input(\"Digite a temperatura (graus Celsius): \"))\n",
        "pressao = float(input(\"Digite a pressão (bar): \"))\n",
        "\n",
        "# Previsão com base na entrada do usuário:\n",
        "resultado = model.predict([[temperatura, pressao]])\n",
        "\n",
        "# Converter o resultado em uma descrição:\n",
        "if resultado[0] == 0:\n",
        "    descricao = \"Sem problema\"\n",
        "else:\n",
        "    descricao = \"Com problema\"\n",
        "\n",
        "# Exibir o resultado:\n",
        "print(f\"Resultado: {descricao}\")\n"
      ]
    }
  ]
}